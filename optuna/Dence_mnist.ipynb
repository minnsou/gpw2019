{
  "nbformat": 4,
  "nbformat_minor": 0,
  "metadata": {
    "colab": {
      "name": "Dence_mnist.ipynb",
      "version": "0.3.2",
      "provenance": [],
      "collapsed_sections": []
    },
    "kernelspec": {
      "name": "python3",
      "display_name": "Python 3"
    }
  },
  "cells": [
    {
      "cell_type": "code",
      "metadata": {
        "id": "sN4FKWdXDQ5t",
        "colab_type": "code",
        "outputId": "700ae8dd-6c5a-4cba-ee7c-8579beb1c6d5",
        "colab": {
          "base_uri": "https://localhost:8080/",
          "height": 449
        }
      },
      "source": [
        "!pip install optuna\n",
        "\n",
        "import time\n",
        "import optuna\n",
        "from optuna.integration import KerasPruningCallback\n",
        "import keras\n",
        "from keras.datasets import mnist\n",
        "from keras.models import Sequential\n",
        "from keras.layers import Input, Dense, Flatten, Dropout"
      ],
      "execution_count": 5,
      "outputs": [
        {
          "output_type": "stream",
          "text": [
            "Requirement already satisfied: optuna in /usr/local/lib/python3.6/dist-packages (0.14.0)\n",
            "Requirement already satisfied: six in /usr/local/lib/python3.6/dist-packages (from optuna) (1.12.0)\n",
            "Requirement already satisfied: typing in /usr/local/lib/python3.6/dist-packages (from optuna) (3.7.4)\n",
            "Requirement already satisfied: pandas in /usr/local/lib/python3.6/dist-packages (from optuna) (0.24.2)\n",
            "Requirement already satisfied: sqlalchemy>=1.1.0 in /usr/local/lib/python3.6/dist-packages (from optuna) (1.3.6)\n",
            "Requirement already satisfied: colorlog in /usr/local/lib/python3.6/dist-packages (from optuna) (4.0.2)\n",
            "Requirement already satisfied: scipy in /usr/local/lib/python3.6/dist-packages (from optuna) (1.3.0)\n",
            "Requirement already satisfied: cliff in /usr/local/lib/python3.6/dist-packages (from optuna) (2.15.0)\n",
            "Requirement already satisfied: numpy in /usr/local/lib/python3.6/dist-packages (from optuna) (1.16.4)\n",
            "Requirement already satisfied: alembic in /usr/local/lib/python3.6/dist-packages (from optuna) (1.0.11)\n",
            "Requirement already satisfied: python-dateutil>=2.5.0 in /usr/local/lib/python3.6/dist-packages (from pandas->optuna) (2.5.3)\n",
            "Requirement already satisfied: pytz>=2011k in /usr/local/lib/python3.6/dist-packages (from pandas->optuna) (2018.9)\n",
            "Requirement already satisfied: pbr!=2.1.0,>=2.0.0 in /usr/local/lib/python3.6/dist-packages (from cliff->optuna) (5.4.2)\n",
            "Requirement already satisfied: stevedore>=1.20.0 in /usr/local/lib/python3.6/dist-packages (from cliff->optuna) (1.30.1)\n",
            "Requirement already satisfied: pyparsing>=2.1.0 in /usr/local/lib/python3.6/dist-packages (from cliff->optuna) (2.4.2)\n",
            "Requirement already satisfied: PyYAML>=3.12 in /usr/local/lib/python3.6/dist-packages (from cliff->optuna) (3.13)\n",
            "Requirement already satisfied: PrettyTable<0.8,>=0.7.2 in /usr/local/lib/python3.6/dist-packages (from cliff->optuna) (0.7.2)\n",
            "Requirement already satisfied: cmd2!=0.8.3; python_version >= \"3.0\" in /usr/local/lib/python3.6/dist-packages (from cliff->optuna) (0.9.16)\n",
            "Requirement already satisfied: Mako in /usr/local/lib/python3.6/dist-packages (from alembic->optuna) (1.1.0)\n",
            "Requirement already satisfied: python-editor>=0.3 in /usr/local/lib/python3.6/dist-packages (from alembic->optuna) (1.0.4)\n",
            "Requirement already satisfied: colorama>=0.3.7 in /usr/local/lib/python3.6/dist-packages (from cmd2!=0.8.3; python_version >= \"3.0\"->cliff->optuna) (0.4.1)\n",
            "Requirement already satisfied: attrs>=16.3.0 in /usr/local/lib/python3.6/dist-packages (from cmd2!=0.8.3; python_version >= \"3.0\"->cliff->optuna) (19.1.0)\n",
            "Requirement already satisfied: pyperclip>=1.6 in /usr/local/lib/python3.6/dist-packages (from cmd2!=0.8.3; python_version >= \"3.0\"->cliff->optuna) (1.7.0)\n",
            "Requirement already satisfied: wcwidth>=0.1.7 in /usr/local/lib/python3.6/dist-packages (from cmd2!=0.8.3; python_version >= \"3.0\"->cliff->optuna) (0.1.7)\n",
            "Requirement already satisfied: MarkupSafe>=0.9.2 in /usr/local/lib/python3.6/dist-packages (from Mako->alembic->optuna) (1.1.1)\n"
          ],
          "name": "stdout"
        }
      ]
    },
    {
      "cell_type": "code",
      "metadata": {
        "id": "6Xp-ejKaEQ5O",
        "colab_type": "code",
        "outputId": "07168084-3305-4fbe-cc1b-bf5edfd68bd2",
        "colab": {
          "base_uri": "https://localhost:8080/",
          "height": 1000
        }
      },
      "source": [
        "# kerasを使って試し（枝刈りなし）\n",
        "\n",
        "N_TRAIN_EXAMPLES = 6000\n",
        "N_TEST_EXAMPLES = 1000\n",
        "start_time = time.time()\n",
        "\n",
        "def objective(trial):\n",
        "    \n",
        "    # The data is split between train and test sets.\n",
        "    (x_train , y_train),(x_test , y_test) = mnist.load_data()\n",
        "    x_train = x_train.reshape(60000, 28, 28)[:N_TRAIN_EXAMPLES].astype('float32') / 255\n",
        "    x_test = x_test.reshape(10000, 28, 28)[:N_TEST_EXAMPLES].astype('float32') / 255\n",
        "    y_train = keras.utils.to_categorical(y_train[:N_TRAIN_EXAMPLES])\n",
        "    y_test = keras.utils.to_categorical(y_test[:N_TEST_EXAMPLES])\n",
        "    \n",
        "    n_layers = trial.suggest_int('n_layers', 0, 2)\n",
        "    model = Sequential()\n",
        "    model.add(Dense(trial.suggest_int('n_units', 1, 128), activation='relu', input_shape=(28, 28)))\n",
        "    model.add(Flatten())\n",
        "    for i in range(n_layers):\n",
        "        model.add(Dense(trial.suggest_int('n_units l {}'.format(i), 1, 128), activation='relu'))\n",
        "    model.add(Dense(10, activation='softmax'))\n",
        "    lr = trial.suggest_loguniform('lr', 1e-5, 1e-1)\n",
        "    model.compile(optimizer=keras.optimizers.RMSprop(lr=lr), loss='categorical_crossentropy', metrics=['accuracy'])\n",
        "    model.fit(x_train, y_train, batch_size=128, epochs=20, verbose=0)\n",
        "    \n",
        "    eval_list = model.evaluate(x_test, y_test)\n",
        "\n",
        "    return eval_list[1]\n",
        "\n",
        "study = optuna.create_study(direction='maximize')\n",
        "study.optimize(objective , n_trials=100)\n",
        "print(round(time.time() - start_time), 'sec')"
      ],
      "execution_count": 12,
      "outputs": [
        {
          "output_type": "stream",
          "text": [
            "1000/1000 [==============================] - 0s 364us/step\n"
          ],
          "name": "stdout"
        },
        {
          "output_type": "stream",
          "text": [
            "[I 2019-08-13 06:18:00,517] Finished trial#0 resulted in value: 0.816. Current best value is 0.816 with parameters: {'n_layers': 2, 'n_units': 5, 'n_units l 0': 101, 'n_units l 1': 99, 'lr': 0.0001266834883379874}.\n"
          ],
          "name": "stderr"
        },
        {
          "output_type": "stream",
          "text": [
            "1000/1000 [==============================] - 0s 476us/step\n"
          ],
          "name": "stdout"
        },
        {
          "output_type": "stream",
          "text": [
            "[I 2019-08-13 06:18:12,435] Finished trial#1 resulted in value: 0.116. Current best value is 0.816 with parameters: {'n_layers': 2, 'n_units': 5, 'n_units l 0': 101, 'n_units l 1': 99, 'lr': 0.0001266834883379874}.\n"
          ],
          "name": "stderr"
        },
        {
          "output_type": "stream",
          "text": [
            "1000/1000 [==============================] - 0s 472us/step\n"
          ],
          "name": "stdout"
        },
        {
          "output_type": "stream",
          "text": [
            "[I 2019-08-13 06:18:20,314] Finished trial#2 resulted in value: 0.888. Current best value is 0.888 with parameters: {'n_layers': 0, 'n_units': 85, 'lr': 0.00013540645606958712}.\n"
          ],
          "name": "stderr"
        },
        {
          "output_type": "stream",
          "text": [
            "1000/1000 [==============================] - 0s 496us/step\n"
          ],
          "name": "stdout"
        },
        {
          "output_type": "stream",
          "text": [
            "[I 2019-08-13 06:18:27,477] Finished trial#3 resulted in value: 0.907. Current best value is 0.907 with parameters: {'n_layers': 1, 'n_units': 58, 'n_units l 0': 14, 'lr': 0.025450317479555007}.\n"
          ],
          "name": "stderr"
        },
        {
          "output_type": "stream",
          "text": [
            "1000/1000 [==============================] - 1s 537us/step\n"
          ],
          "name": "stdout"
        },
        {
          "output_type": "stream",
          "text": [
            "[I 2019-08-13 06:18:37,866] Finished trial#4 resulted in value: 0.915. Current best value is 0.915 with parameters: {'n_layers': 2, 'n_units': 83, 'n_units l 0': 57, 'n_units l 1': 28, 'lr': 0.02868221720533515}.\n"
          ],
          "name": "stderr"
        },
        {
          "output_type": "stream",
          "text": [
            "1000/1000 [==============================] - 1s 558us/step\n"
          ],
          "name": "stdout"
        },
        {
          "output_type": "stream",
          "text": [
            "[I 2019-08-13 06:18:47,487] Finished trial#5 resulted in value: 0.885. Current best value is 0.915 with parameters: {'n_layers': 2, 'n_units': 83, 'n_units l 0': 57, 'n_units l 1': 28, 'lr': 0.02868221720533515}.\n"
          ],
          "name": "stderr"
        },
        {
          "output_type": "stream",
          "text": [
            "1000/1000 [==============================] - 1s 593us/step\n"
          ],
          "name": "stdout"
        },
        {
          "output_type": "stream",
          "text": [
            "[I 2019-08-13 06:18:55,192] Finished trial#6 resulted in value: 0.737. Current best value is 0.915 with parameters: {'n_layers': 2, 'n_units': 83, 'n_units l 0': 57, 'n_units l 1': 28, 'lr': 0.02868221720533515}.\n"
          ],
          "name": "stderr"
        },
        {
          "output_type": "stream",
          "text": [
            "1000/1000 [==============================] - 1s 605us/step\n"
          ],
          "name": "stdout"
        },
        {
          "output_type": "stream",
          "text": [
            "[I 2019-08-13 06:19:04,469] Finished trial#7 resulted in value: 0.915. Current best value is 0.915 with parameters: {'n_layers': 2, 'n_units': 83, 'n_units l 0': 57, 'n_units l 1': 28, 'lr': 0.02868221720533515}.\n"
          ],
          "name": "stderr"
        },
        {
          "output_type": "stream",
          "text": [
            "1000/1000 [==============================] - 1s 635us/step\n"
          ],
          "name": "stdout"
        },
        {
          "output_type": "stream",
          "text": [
            "[I 2019-08-13 06:19:12,511] Finished trial#8 resulted in value: 0.925. Current best value is 0.925 with parameters: {'n_layers': 2, 'n_units': 48, 'n_units l 0': 29, 'n_units l 1': 13, 'lr': 0.0008026048013626744}.\n"
          ],
          "name": "stderr"
        },
        {
          "output_type": "stream",
          "text": [
            "1000/1000 [==============================] - 1s 643us/step\n"
          ],
          "name": "stdout"
        },
        {
          "output_type": "stream",
          "text": [
            "[I 2019-08-13 06:19:21,072] Finished trial#9 resulted in value: 0.776. Current best value is 0.925 with parameters: {'n_layers': 2, 'n_units': 48, 'n_units l 0': 29, 'n_units l 1': 13, 'lr': 0.0008026048013626744}.\n"
          ],
          "name": "stderr"
        },
        {
          "output_type": "stream",
          "text": [
            "1000/1000 [==============================] - 1s 649us/step\n"
          ],
          "name": "stdout"
        },
        {
          "output_type": "stream",
          "text": [
            "[I 2019-08-13 06:19:28,852] Finished trial#10 resulted in value: 0.937. Current best value is 0.937 with parameters: {'n_layers': 1, 'n_units': 25, 'n_units l 0': 91, 'lr': 0.0019477572372901548}.\n"
          ],
          "name": "stderr"
        },
        {
          "output_type": "stream",
          "text": [
            "1000/1000 [==============================] - 1s 695us/step\n"
          ],
          "name": "stdout"
        },
        {
          "output_type": "stream",
          "text": [
            "[I 2019-08-13 06:19:37,094] Finished trial#11 resulted in value: 0.955. Current best value is 0.955 with parameters: {'n_layers': 1, 'n_units': 24, 'n_units l 0': 125, 'lr': 0.0032441274602718656}.\n"
          ],
          "name": "stderr"
        },
        {
          "output_type": "stream",
          "text": [
            "1000/1000 [==============================] - 1s 686us/step\n"
          ],
          "name": "stdout"
        },
        {
          "output_type": "stream",
          "text": [
            "[I 2019-08-13 06:19:42,383] Finished trial#12 resulted in value: 0.894. Current best value is 0.955 with parameters: {'n_layers': 1, 'n_units': 24, 'n_units l 0': 125, 'lr': 0.0032441274602718656}.\n"
          ],
          "name": "stderr"
        },
        {
          "output_type": "stream",
          "text": [
            "1000/1000 [==============================] - 1s 717us/step\n"
          ],
          "name": "stdout"
        },
        {
          "output_type": "stream",
          "text": [
            "[I 2019-08-13 06:19:50,674] Finished trial#13 resulted in value: 0.943. Current best value is 0.955 with parameters: {'n_layers': 1, 'n_units': 24, 'n_units l 0': 125, 'lr': 0.0032441274602718656}.\n"
          ],
          "name": "stderr"
        },
        {
          "output_type": "stream",
          "text": [
            "1000/1000 [==============================] - 1s 727us/step\n"
          ],
          "name": "stdout"
        },
        {
          "output_type": "stream",
          "text": [
            "[I 2019-08-13 06:19:59,325] Finished trial#14 resulted in value: 0.948. Current best value is 0.955 with parameters: {'n_layers': 1, 'n_units': 24, 'n_units l 0': 125, 'lr': 0.0032441274602718656}.\n"
          ],
          "name": "stderr"
        },
        {
          "output_type": "stream",
          "text": [
            "1000/1000 [==============================] - 1s 763us/step\n"
          ],
          "name": "stdout"
        },
        {
          "output_type": "stream",
          "text": [
            "[I 2019-08-13 06:20:05,394] Finished trial#15 resulted in value: 0.949. Current best value is 0.955 with parameters: {'n_layers': 1, 'n_units': 24, 'n_units l 0': 125, 'lr': 0.0032441274602718656}.\n"
          ],
          "name": "stderr"
        },
        {
          "output_type": "stream",
          "text": [
            "1000/1000 [==============================] - 1s 783us/step\n"
          ],
          "name": "stdout"
        },
        {
          "output_type": "stream",
          "text": [
            "[I 2019-08-13 06:20:11,765] Finished trial#16 resulted in value: 0.936. Current best value is 0.955 with parameters: {'n_layers': 1, 'n_units': 24, 'n_units l 0': 125, 'lr': 0.0032441274602718656}.\n"
          ],
          "name": "stderr"
        },
        {
          "output_type": "stream",
          "text": [
            "1000/1000 [==============================] - 1s 799us/step\n"
          ],
          "name": "stdout"
        },
        {
          "output_type": "stream",
          "text": [
            "[I 2019-08-13 06:20:19,565] Finished trial#17 resulted in value: 0.919. Current best value is 0.955 with parameters: {'n_layers': 1, 'n_units': 24, 'n_units l 0': 125, 'lr': 0.0032441274602718656}.\n"
          ],
          "name": "stderr"
        },
        {
          "output_type": "stream",
          "text": [
            "1000/1000 [==============================] - 1s 825us/step\n"
          ],
          "name": "stdout"
        },
        {
          "output_type": "stream",
          "text": [
            "[I 2019-08-13 06:20:26,126] Finished trial#18 resulted in value: 0.087. Current best value is 0.955 with parameters: {'n_layers': 1, 'n_units': 24, 'n_units l 0': 125, 'lr': 0.0032441274602718656}.\n"
          ],
          "name": "stderr"
        },
        {
          "output_type": "stream",
          "text": [
            "1000/1000 [==============================] - 1s 865us/step\n"
          ],
          "name": "stdout"
        },
        {
          "output_type": "stream",
          "text": [
            "[I 2019-08-13 06:20:36,130] Finished trial#19 resulted in value: 0.939. Current best value is 0.955 with parameters: {'n_layers': 1, 'n_units': 24, 'n_units l 0': 125, 'lr': 0.0032441274602718656}.\n"
          ],
          "name": "stderr"
        },
        {
          "output_type": "stream",
          "text": [
            "1000/1000 [==============================] - 1s 852us/step\n"
          ],
          "name": "stdout"
        },
        {
          "output_type": "stream",
          "text": [
            "[I 2019-08-13 06:20:42,527] Finished trial#20 resulted in value: 0.922. Current best value is 0.955 with parameters: {'n_layers': 1, 'n_units': 24, 'n_units l 0': 125, 'lr': 0.0032441274602718656}.\n"
          ],
          "name": "stderr"
        },
        {
          "output_type": "stream",
          "text": [
            "1000/1000 [==============================] - 1s 884us/step\n"
          ],
          "name": "stdout"
        },
        {
          "output_type": "stream",
          "text": [
            "[I 2019-08-13 06:20:50,405] Finished trial#21 resulted in value: 0.94. Current best value is 0.955 with parameters: {'n_layers': 1, 'n_units': 24, 'n_units l 0': 125, 'lr': 0.0032441274602718656}.\n"
          ],
          "name": "stderr"
        },
        {
          "output_type": "stream",
          "text": [
            "1000/1000 [==============================] - 1s 900us/step\n"
          ],
          "name": "stdout"
        },
        {
          "output_type": "stream",
          "text": [
            "[I 2019-08-13 06:20:56,019] Finished trial#22 resulted in value: 0.793. Current best value is 0.955 with parameters: {'n_layers': 1, 'n_units': 24, 'n_units l 0': 125, 'lr': 0.0032441274602718656}.\n"
          ],
          "name": "stderr"
        },
        {
          "output_type": "stream",
          "text": [
            "1000/1000 [==============================] - 1s 991us/step\n"
          ],
          "name": "stdout"
        },
        {
          "output_type": "stream",
          "text": [
            "[I 2019-08-13 06:21:07,222] Finished trial#23 resulted in value: 0.954. Current best value is 0.955 with parameters: {'n_layers': 1, 'n_units': 24, 'n_units l 0': 125, 'lr': 0.0032441274602718656}.\n"
          ],
          "name": "stderr"
        },
        {
          "output_type": "stream",
          "text": [
            "1000/1000 [==============================] - 1s 1ms/step\n"
          ],
          "name": "stdout"
        },
        {
          "output_type": "stream",
          "text": [
            "[I 2019-08-13 06:21:18,329] Finished trial#24 resulted in value: 0.946. Current best value is 0.955 with parameters: {'n_layers': 1, 'n_units': 24, 'n_units l 0': 125, 'lr': 0.0032441274602718656}.\n"
          ],
          "name": "stderr"
        },
        {
          "output_type": "stream",
          "text": [
            "1000/1000 [==============================] - 1s 1ms/step\n"
          ],
          "name": "stdout"
        },
        {
          "output_type": "stream",
          "text": [
            "[I 2019-08-13 06:21:31,897] Finished trial#25 resulted in value: 0.942. Current best value is 0.955 with parameters: {'n_layers': 1, 'n_units': 24, 'n_units l 0': 125, 'lr': 0.0032441274602718656}.\n"
          ],
          "name": "stderr"
        },
        {
          "output_type": "stream",
          "text": [
            "1000/1000 [==============================] - 1s 1ms/step\n"
          ],
          "name": "stdout"
        },
        {
          "output_type": "stream",
          "text": [
            "[I 2019-08-13 06:21:43,793] Finished trial#26 resulted in value: 0.935. Current best value is 0.955 with parameters: {'n_layers': 1, 'n_units': 24, 'n_units l 0': 125, 'lr': 0.0032441274602718656}.\n"
          ],
          "name": "stderr"
        },
        {
          "output_type": "stream",
          "text": [
            "1000/1000 [==============================] - 1s 1ms/step\n"
          ],
          "name": "stdout"
        },
        {
          "output_type": "stream",
          "text": [
            "[I 2019-08-13 06:21:51,158] Finished trial#27 resulted in value: 0.901. Current best value is 0.955 with parameters: {'n_layers': 1, 'n_units': 24, 'n_units l 0': 125, 'lr': 0.0032441274602718656}.\n"
          ],
          "name": "stderr"
        },
        {
          "output_type": "stream",
          "text": [
            "1000/1000 [==============================] - 1s 1ms/step\n"
          ],
          "name": "stdout"
        },
        {
          "output_type": "stream",
          "text": [
            "[I 2019-08-13 06:22:01,613] Finished trial#28 resulted in value: 0.944. Current best value is 0.955 with parameters: {'n_layers': 1, 'n_units': 24, 'n_units l 0': 125, 'lr': 0.0032441274602718656}.\n"
          ],
          "name": "stderr"
        },
        {
          "output_type": "stream",
          "text": [
            "1000/1000 [==============================] - 1s 1ms/step\n"
          ],
          "name": "stdout"
        },
        {
          "output_type": "stream",
          "text": [
            "[I 2019-08-13 06:22:08,089] Finished trial#29 resulted in value: 0.742. Current best value is 0.955 with parameters: {'n_layers': 1, 'n_units': 24, 'n_units l 0': 125, 'lr': 0.0032441274602718656}.\n"
          ],
          "name": "stderr"
        },
        {
          "output_type": "stream",
          "text": [
            "1000/1000 [==============================] - 1s 1ms/step\n"
          ],
          "name": "stdout"
        },
        {
          "output_type": "stream",
          "text": [
            "[I 2019-08-13 06:22:17,466] Finished trial#30 resulted in value: 0.939. Current best value is 0.955 with parameters: {'n_layers': 1, 'n_units': 24, 'n_units l 0': 125, 'lr': 0.0032441274602718656}.\n"
          ],
          "name": "stderr"
        },
        {
          "output_type": "stream",
          "text": [
            "1000/1000 [==============================] - 1s 1ms/step\n"
          ],
          "name": "stdout"
        },
        {
          "output_type": "stream",
          "text": [
            "[I 2019-08-13 06:22:25,849] Finished trial#31 resulted in value: 0.939. Current best value is 0.955 with parameters: {'n_layers': 1, 'n_units': 24, 'n_units l 0': 125, 'lr': 0.0032441274602718656}.\n"
          ],
          "name": "stderr"
        },
        {
          "output_type": "stream",
          "text": [
            "1000/1000 [==============================] - 1s 1ms/step\n"
          ],
          "name": "stdout"
        },
        {
          "output_type": "stream",
          "text": [
            "[I 2019-08-13 06:22:35,721] Finished trial#32 resulted in value: 0.936. Current best value is 0.955 with parameters: {'n_layers': 1, 'n_units': 24, 'n_units l 0': 125, 'lr': 0.0032441274602718656}.\n"
          ],
          "name": "stderr"
        },
        {
          "output_type": "stream",
          "text": [
            "1000/1000 [==============================] - 1s 1ms/step\n"
          ],
          "name": "stdout"
        },
        {
          "output_type": "stream",
          "text": [
            "[I 2019-08-13 06:22:51,652] Finished trial#33 resulted in value: 0.946. Current best value is 0.955 with parameters: {'n_layers': 1, 'n_units': 24, 'n_units l 0': 125, 'lr': 0.0032441274602718656}.\n"
          ],
          "name": "stderr"
        },
        {
          "output_type": "stream",
          "text": [
            "1000/1000 [==============================] - 1s 1ms/step\n"
          ],
          "name": "stdout"
        },
        {
          "output_type": "stream",
          "text": [
            "[I 2019-08-13 06:23:01,951] Finished trial#34 resulted in value: 0.951. Current best value is 0.955 with parameters: {'n_layers': 1, 'n_units': 24, 'n_units l 0': 125, 'lr': 0.0032441274602718656}.\n"
          ],
          "name": "stderr"
        },
        {
          "output_type": "stream",
          "text": [
            "1000/1000 [==============================] - 1s 1ms/step\n"
          ],
          "name": "stdout"
        },
        {
          "output_type": "stream",
          "text": [
            "[I 2019-08-13 06:23:13,091] Finished trial#35 resulted in value: 0.949. Current best value is 0.955 with parameters: {'n_layers': 1, 'n_units': 24, 'n_units l 0': 125, 'lr': 0.0032441274602718656}.\n"
          ],
          "name": "stderr"
        },
        {
          "output_type": "stream",
          "text": [
            "1000/1000 [==============================] - 1s 1ms/step\n"
          ],
          "name": "stdout"
        },
        {
          "output_type": "stream",
          "text": [
            "[I 2019-08-13 06:23:25,853] Finished trial#36 resulted in value: 0.941. Current best value is 0.955 with parameters: {'n_layers': 1, 'n_units': 24, 'n_units l 0': 125, 'lr': 0.0032441274602718656}.\n"
          ],
          "name": "stderr"
        },
        {
          "output_type": "stream",
          "text": [
            "1000/1000 [==============================] - 1s 1ms/step\n"
          ],
          "name": "stdout"
        },
        {
          "output_type": "stream",
          "text": [
            "[I 2019-08-13 06:23:37,666] Finished trial#37 resulted in value: 0.939. Current best value is 0.955 with parameters: {'n_layers': 1, 'n_units': 24, 'n_units l 0': 125, 'lr': 0.0032441274602718656}.\n"
          ],
          "name": "stderr"
        },
        {
          "output_type": "stream",
          "text": [
            "1000/1000 [==============================] - 1s 1ms/step\n"
          ],
          "name": "stdout"
        },
        {
          "output_type": "stream",
          "text": [
            "[I 2019-08-13 06:23:46,828] Finished trial#38 resulted in value: 0.853. Current best value is 0.955 with parameters: {'n_layers': 1, 'n_units': 24, 'n_units l 0': 125, 'lr': 0.0032441274602718656}.\n"
          ],
          "name": "stderr"
        },
        {
          "output_type": "stream",
          "text": [
            "1000/1000 [==============================] - 1s 1ms/step\n"
          ],
          "name": "stdout"
        },
        {
          "output_type": "stream",
          "text": [
            "[I 2019-08-13 06:23:59,350] Finished trial#39 resulted in value: 0.931. Current best value is 0.955 with parameters: {'n_layers': 1, 'n_units': 24, 'n_units l 0': 125, 'lr': 0.0032441274602718656}.\n"
          ],
          "name": "stderr"
        },
        {
          "output_type": "stream",
          "text": [
            "1000/1000 [==============================] - 1s 1ms/step\n"
          ],
          "name": "stdout"
        },
        {
          "output_type": "stream",
          "text": [
            "[I 2019-08-13 06:24:10,582] Finished trial#40 resulted in value: 0.911. Current best value is 0.955 with parameters: {'n_layers': 1, 'n_units': 24, 'n_units l 0': 125, 'lr': 0.0032441274602718656}.\n"
          ],
          "name": "stderr"
        },
        {
          "output_type": "stream",
          "text": [
            "1000/1000 [==============================] - 1s 1ms/step\n"
          ],
          "name": "stdout"
        },
        {
          "output_type": "stream",
          "text": [
            "[I 2019-08-13 06:24:22,911] Finished trial#41 resulted in value: 0.907. Current best value is 0.955 with parameters: {'n_layers': 1, 'n_units': 24, 'n_units l 0': 125, 'lr': 0.0032441274602718656}.\n"
          ],
          "name": "stderr"
        },
        {
          "output_type": "stream",
          "text": [
            "1000/1000 [==============================] - 1s 1ms/step\n"
          ],
          "name": "stdout"
        },
        {
          "output_type": "stream",
          "text": [
            "[I 2019-08-13 06:24:33,517] Finished trial#42 resulted in value: 0.938. Current best value is 0.955 with parameters: {'n_layers': 1, 'n_units': 24, 'n_units l 0': 125, 'lr': 0.0032441274602718656}.\n"
          ],
          "name": "stderr"
        },
        {
          "output_type": "stream",
          "text": [
            "1000/1000 [==============================] - 1s 1ms/step\n"
          ],
          "name": "stdout"
        },
        {
          "output_type": "stream",
          "text": [
            "[I 2019-08-13 06:24:46,671] Finished trial#43 resulted in value: 0.953. Current best value is 0.955 with parameters: {'n_layers': 1, 'n_units': 24, 'n_units l 0': 125, 'lr': 0.0032441274602718656}.\n"
          ],
          "name": "stderr"
        },
        {
          "output_type": "stream",
          "text": [
            "1000/1000 [==============================] - 1s 1ms/step\n"
          ],
          "name": "stdout"
        },
        {
          "output_type": "stream",
          "text": [
            "[I 2019-08-13 06:24:57,423] Finished trial#44 resulted in value: 0.909. Current best value is 0.955 with parameters: {'n_layers': 1, 'n_units': 24, 'n_units l 0': 125, 'lr': 0.0032441274602718656}.\n"
          ],
          "name": "stderr"
        },
        {
          "output_type": "stream",
          "text": [
            "1000/1000 [==============================] - 1s 1ms/step\n"
          ],
          "name": "stdout"
        },
        {
          "output_type": "stream",
          "text": [
            "[I 2019-08-13 06:25:10,384] Finished trial#45 resulted in value: 0.929. Current best value is 0.955 with parameters: {'n_layers': 1, 'n_units': 24, 'n_units l 0': 125, 'lr': 0.0032441274602718656}.\n"
          ],
          "name": "stderr"
        },
        {
          "output_type": "stream",
          "text": [
            "1000/1000 [==============================] - 1s 1ms/step\n"
          ],
          "name": "stdout"
        },
        {
          "output_type": "stream",
          "text": [
            "[I 2019-08-13 06:25:22,059] Finished trial#46 resulted in value: 0.931. Current best value is 0.955 with parameters: {'n_layers': 1, 'n_units': 24, 'n_units l 0': 125, 'lr': 0.0032441274602718656}.\n"
          ],
          "name": "stderr"
        },
        {
          "output_type": "stream",
          "text": [
            "1000/1000 [==============================] - 2s 2ms/step\n"
          ],
          "name": "stdout"
        },
        {
          "output_type": "stream",
          "text": [
            "[I 2019-08-13 06:25:34,026] Finished trial#47 resulted in value: 0.945. Current best value is 0.955 with parameters: {'n_layers': 1, 'n_units': 24, 'n_units l 0': 125, 'lr': 0.0032441274602718656}.\n"
          ],
          "name": "stderr"
        },
        {
          "output_type": "stream",
          "text": [
            "1000/1000 [==============================] - 2s 2ms/step\n"
          ],
          "name": "stdout"
        },
        {
          "output_type": "stream",
          "text": [
            "[I 2019-08-13 06:25:48,126] Finished trial#48 resulted in value: 0.941. Current best value is 0.955 with parameters: {'n_layers': 1, 'n_units': 24, 'n_units l 0': 125, 'lr': 0.0032441274602718656}.\n"
          ],
          "name": "stderr"
        },
        {
          "output_type": "stream",
          "text": [
            "1000/1000 [==============================] - 2s 2ms/step\n"
          ],
          "name": "stdout"
        },
        {
          "output_type": "stream",
          "text": [
            "[I 2019-08-13 06:25:59,365] Finished trial#49 resulted in value: 0.805. Current best value is 0.955 with parameters: {'n_layers': 1, 'n_units': 24, 'n_units l 0': 125, 'lr': 0.0032441274602718656}.\n"
          ],
          "name": "stderr"
        },
        {
          "output_type": "stream",
          "text": [
            "1000/1000 [==============================] - 2s 2ms/step\n"
          ],
          "name": "stdout"
        },
        {
          "output_type": "stream",
          "text": [
            "[I 2019-08-13 06:26:08,930] Finished trial#50 resulted in value: 0.922. Current best value is 0.955 with parameters: {'n_layers': 1, 'n_units': 24, 'n_units l 0': 125, 'lr': 0.0032441274602718656}.\n"
          ],
          "name": "stderr"
        },
        {
          "output_type": "stream",
          "text": [
            "1000/1000 [==============================] - 2s 2ms/step\n"
          ],
          "name": "stdout"
        },
        {
          "output_type": "stream",
          "text": [
            "[I 2019-08-13 06:26:20,962] Finished trial#51 resulted in value: 0.946. Current best value is 0.955 with parameters: {'n_layers': 1, 'n_units': 24, 'n_units l 0': 125, 'lr': 0.0032441274602718656}.\n"
          ],
          "name": "stderr"
        },
        {
          "output_type": "stream",
          "text": [
            "1000/1000 [==============================] - 2s 2ms/step\n"
          ],
          "name": "stdout"
        },
        {
          "output_type": "stream",
          "text": [
            "[I 2019-08-13 06:26:35,948] Finished trial#52 resulted in value: 0.948. Current best value is 0.955 with parameters: {'n_layers': 1, 'n_units': 24, 'n_units l 0': 125, 'lr': 0.0032441274602718656}.\n"
          ],
          "name": "stderr"
        },
        {
          "output_type": "stream",
          "text": [
            "1000/1000 [==============================] - 2s 2ms/step\n"
          ],
          "name": "stdout"
        },
        {
          "output_type": "stream",
          "text": [
            "[I 2019-08-13 06:26:47,685] Finished trial#53 resulted in value: 0.945. Current best value is 0.955 with parameters: {'n_layers': 1, 'n_units': 24, 'n_units l 0': 125, 'lr': 0.0032441274602718656}.\n"
          ],
          "name": "stderr"
        },
        {
          "output_type": "stream",
          "text": [
            "1000/1000 [==============================] - 2s 2ms/step\n"
          ],
          "name": "stdout"
        },
        {
          "output_type": "stream",
          "text": [
            "[I 2019-08-13 06:27:02,919] Finished trial#54 resulted in value: 0.922. Current best value is 0.955 with parameters: {'n_layers': 1, 'n_units': 24, 'n_units l 0': 125, 'lr': 0.0032441274602718656}.\n"
          ],
          "name": "stderr"
        },
        {
          "output_type": "stream",
          "text": [
            "1000/1000 [==============================] - 2s 2ms/step\n"
          ],
          "name": "stdout"
        },
        {
          "output_type": "stream",
          "text": [
            "[I 2019-08-13 06:27:16,610] Finished trial#55 resulted in value: 0.887. Current best value is 0.955 with parameters: {'n_layers': 1, 'n_units': 24, 'n_units l 0': 125, 'lr': 0.0032441274602718656}.\n"
          ],
          "name": "stderr"
        },
        {
          "output_type": "stream",
          "text": [
            "1000/1000 [==============================] - 2s 2ms/step\n"
          ],
          "name": "stdout"
        },
        {
          "output_type": "stream",
          "text": [
            "[I 2019-08-13 06:27:26,392] Finished trial#56 resulted in value: 0.927. Current best value is 0.955 with parameters: {'n_layers': 1, 'n_units': 24, 'n_units l 0': 125, 'lr': 0.0032441274602718656}.\n"
          ],
          "name": "stderr"
        },
        {
          "output_type": "stream",
          "text": [
            "1000/1000 [==============================] - 2s 2ms/step\n"
          ],
          "name": "stdout"
        },
        {
          "output_type": "stream",
          "text": [
            "[I 2019-08-13 06:27:37,657] Finished trial#57 resulted in value: 0.937. Current best value is 0.955 with parameters: {'n_layers': 1, 'n_units': 24, 'n_units l 0': 125, 'lr': 0.0032441274602718656}.\n"
          ],
          "name": "stderr"
        },
        {
          "output_type": "stream",
          "text": [
            "1000/1000 [==============================] - 2s 2ms/step\n"
          ],
          "name": "stdout"
        },
        {
          "output_type": "stream",
          "text": [
            "[I 2019-08-13 06:27:49,232] Finished trial#58 resulted in value: 0.934. Current best value is 0.955 with parameters: {'n_layers': 1, 'n_units': 24, 'n_units l 0': 125, 'lr': 0.0032441274602718656}.\n"
          ],
          "name": "stderr"
        },
        {
          "output_type": "stream",
          "text": [
            "1000/1000 [==============================] - 2s 2ms/step\n"
          ],
          "name": "stdout"
        },
        {
          "output_type": "stream",
          "text": [
            "[I 2019-08-13 06:28:02,493] Finished trial#59 resulted in value: 0.928. Current best value is 0.955 with parameters: {'n_layers': 1, 'n_units': 24, 'n_units l 0': 125, 'lr': 0.0032441274602718656}.\n"
          ],
          "name": "stderr"
        },
        {
          "output_type": "stream",
          "text": [
            "1000/1000 [==============================] - 2s 2ms/step\n"
          ],
          "name": "stdout"
        },
        {
          "output_type": "stream",
          "text": [
            "[I 2019-08-13 06:28:14,104] Finished trial#60 resulted in value: 0.942. Current best value is 0.955 with parameters: {'n_layers': 1, 'n_units': 24, 'n_units l 0': 125, 'lr': 0.0032441274602718656}.\n"
          ],
          "name": "stderr"
        },
        {
          "output_type": "stream",
          "text": [
            "1000/1000 [==============================] - 2s 2ms/step\n"
          ],
          "name": "stdout"
        },
        {
          "output_type": "stream",
          "text": [
            "[I 2019-08-13 06:28:30,184] Finished trial#61 resulted in value: 0.908. Current best value is 0.955 with parameters: {'n_layers': 1, 'n_units': 24, 'n_units l 0': 125, 'lr': 0.0032441274602718656}.\n"
          ],
          "name": "stderr"
        },
        {
          "output_type": "stream",
          "text": [
            "1000/1000 [==============================] - 2s 2ms/step\n"
          ],
          "name": "stdout"
        },
        {
          "output_type": "stream",
          "text": [
            "[I 2019-08-13 06:28:42,390] Finished trial#62 resulted in value: 0.945. Current best value is 0.955 with parameters: {'n_layers': 1, 'n_units': 24, 'n_units l 0': 125, 'lr': 0.0032441274602718656}.\n"
          ],
          "name": "stderr"
        },
        {
          "output_type": "stream",
          "text": [
            "1000/1000 [==============================] - 2s 2ms/step\n"
          ],
          "name": "stdout"
        },
        {
          "output_type": "stream",
          "text": [
            "[I 2019-08-13 06:28:56,767] Finished trial#63 resulted in value: 0.94. Current best value is 0.955 with parameters: {'n_layers': 1, 'n_units': 24, 'n_units l 0': 125, 'lr': 0.0032441274602718656}.\n"
          ],
          "name": "stderr"
        },
        {
          "output_type": "stream",
          "text": [
            "1000/1000 [==============================] - 2s 2ms/step\n"
          ],
          "name": "stdout"
        },
        {
          "output_type": "stream",
          "text": [
            "[I 2019-08-13 06:29:13,224] Finished trial#64 resulted in value: 0.939. Current best value is 0.955 with parameters: {'n_layers': 1, 'n_units': 24, 'n_units l 0': 125, 'lr': 0.0032441274602718656}.\n"
          ],
          "name": "stderr"
        },
        {
          "output_type": "stream",
          "text": [
            "1000/1000 [==============================] - 2s 2ms/step\n"
          ],
          "name": "stdout"
        },
        {
          "output_type": "stream",
          "text": [
            "[I 2019-08-13 06:29:27,612] Finished trial#65 resulted in value: 0.942. Current best value is 0.955 with parameters: {'n_layers': 1, 'n_units': 24, 'n_units l 0': 125, 'lr': 0.0032441274602718656}.\n"
          ],
          "name": "stderr"
        },
        {
          "output_type": "stream",
          "text": [
            "1000/1000 [==============================] - 2s 2ms/step\n"
          ],
          "name": "stdout"
        },
        {
          "output_type": "stream",
          "text": [
            "[I 2019-08-13 06:29:43,138] Finished trial#66 resulted in value: 0.949. Current best value is 0.955 with parameters: {'n_layers': 1, 'n_units': 24, 'n_units l 0': 125, 'lr': 0.0032441274602718656}.\n"
          ],
          "name": "stderr"
        },
        {
          "output_type": "stream",
          "text": [
            "1000/1000 [==============================] - 2s 2ms/step\n"
          ],
          "name": "stdout"
        },
        {
          "output_type": "stream",
          "text": [
            "[I 2019-08-13 06:29:57,094] Finished trial#67 resulted in value: 0.943. Current best value is 0.955 with parameters: {'n_layers': 1, 'n_units': 24, 'n_units l 0': 125, 'lr': 0.0032441274602718656}.\n"
          ],
          "name": "stderr"
        },
        {
          "output_type": "stream",
          "text": [
            "1000/1000 [==============================] - 2s 2ms/step\n"
          ],
          "name": "stdout"
        },
        {
          "output_type": "stream",
          "text": [
            "[I 2019-08-13 06:30:13,405] Finished trial#68 resulted in value: 0.937. Current best value is 0.955 with parameters: {'n_layers': 1, 'n_units': 24, 'n_units l 0': 125, 'lr': 0.0032441274602718656}.\n"
          ],
          "name": "stderr"
        },
        {
          "output_type": "stream",
          "text": [
            "1000/1000 [==============================] - 2s 2ms/step\n"
          ],
          "name": "stdout"
        },
        {
          "output_type": "stream",
          "text": [
            "[I 2019-08-13 06:30:27,691] Finished trial#69 resulted in value: 0.951. Current best value is 0.955 with parameters: {'n_layers': 1, 'n_units': 24, 'n_units l 0': 125, 'lr': 0.0032441274602718656}.\n"
          ],
          "name": "stderr"
        },
        {
          "output_type": "stream",
          "text": [
            "1000/1000 [==============================] - 2s 2ms/step\n"
          ],
          "name": "stdout"
        },
        {
          "output_type": "stream",
          "text": [
            "[I 2019-08-13 06:30:42,907] Finished trial#70 resulted in value: 0.944. Current best value is 0.955 with parameters: {'n_layers': 1, 'n_units': 24, 'n_units l 0': 125, 'lr': 0.0032441274602718656}.\n"
          ],
          "name": "stderr"
        },
        {
          "output_type": "stream",
          "text": [
            "1000/1000 [==============================] - 2s 2ms/step\n"
          ],
          "name": "stdout"
        },
        {
          "output_type": "stream",
          "text": [
            "[I 2019-08-13 06:30:57,578] Finished trial#71 resulted in value: 0.949. Current best value is 0.955 with parameters: {'n_layers': 1, 'n_units': 24, 'n_units l 0': 125, 'lr': 0.0032441274602718656}.\n"
          ],
          "name": "stderr"
        },
        {
          "output_type": "stream",
          "text": [
            "1000/1000 [==============================] - 2s 2ms/step\n"
          ],
          "name": "stdout"
        },
        {
          "output_type": "stream",
          "text": [
            "[I 2019-08-13 06:31:12,211] Finished trial#72 resulted in value: 0.944. Current best value is 0.955 with parameters: {'n_layers': 1, 'n_units': 24, 'n_units l 0': 125, 'lr': 0.0032441274602718656}.\n"
          ],
          "name": "stderr"
        },
        {
          "output_type": "stream",
          "text": [
            "1000/1000 [==============================] - 2s 2ms/step\n"
          ],
          "name": "stdout"
        },
        {
          "output_type": "stream",
          "text": [
            "[I 2019-08-13 06:31:27,514] Finished trial#73 resulted in value: 0.948. Current best value is 0.955 with parameters: {'n_layers': 1, 'n_units': 24, 'n_units l 0': 125, 'lr': 0.0032441274602718656}.\n"
          ],
          "name": "stderr"
        },
        {
          "output_type": "stream",
          "text": [
            "1000/1000 [==============================] - 2s 2ms/step\n"
          ],
          "name": "stdout"
        },
        {
          "output_type": "stream",
          "text": [
            "[I 2019-08-13 06:31:41,193] Finished trial#74 resulted in value: 0.952. Current best value is 0.955 with parameters: {'n_layers': 1, 'n_units': 24, 'n_units l 0': 125, 'lr': 0.0032441274602718656}.\n"
          ],
          "name": "stderr"
        },
        {
          "output_type": "stream",
          "text": [
            "1000/1000 [==============================] - 2s 2ms/step\n"
          ],
          "name": "stdout"
        },
        {
          "output_type": "stream",
          "text": [
            "[I 2019-08-13 06:31:55,030] Finished trial#75 resulted in value: 0.939. Current best value is 0.955 with parameters: {'n_layers': 1, 'n_units': 24, 'n_units l 0': 125, 'lr': 0.0032441274602718656}.\n"
          ],
          "name": "stderr"
        },
        {
          "output_type": "stream",
          "text": [
            "1000/1000 [==============================] - 2s 2ms/step\n"
          ],
          "name": "stdout"
        },
        {
          "output_type": "stream",
          "text": [
            "[I 2019-08-13 06:32:09,637] Finished trial#76 resulted in value: 0.955. Current best value is 0.955 with parameters: {'n_layers': 1, 'n_units': 24, 'n_units l 0': 125, 'lr': 0.0032441274602718656}.\n"
          ],
          "name": "stderr"
        },
        {
          "output_type": "stream",
          "text": [
            "1000/1000 [==============================] - 2s 2ms/step\n"
          ],
          "name": "stdout"
        },
        {
          "output_type": "stream",
          "text": [
            "[I 2019-08-13 06:32:23,806] Finished trial#77 resulted in value: 0.951. Current best value is 0.955 with parameters: {'n_layers': 1, 'n_units': 24, 'n_units l 0': 125, 'lr': 0.0032441274602718656}.\n"
          ],
          "name": "stderr"
        },
        {
          "output_type": "stream",
          "text": [
            "1000/1000 [==============================] - 2s 2ms/step\n"
          ],
          "name": "stdout"
        },
        {
          "output_type": "stream",
          "text": [
            "[I 2019-08-13 06:32:37,111] Finished trial#78 resulted in value: 0.938. Current best value is 0.955 with parameters: {'n_layers': 1, 'n_units': 24, 'n_units l 0': 125, 'lr': 0.0032441274602718656}.\n"
          ],
          "name": "stderr"
        },
        {
          "output_type": "stream",
          "text": [
            "1000/1000 [==============================] - 2s 2ms/step\n"
          ],
          "name": "stdout"
        },
        {
          "output_type": "stream",
          "text": [
            "[I 2019-08-13 06:32:51,494] Finished trial#79 resulted in value: 0.95. Current best value is 0.955 with parameters: {'n_layers': 1, 'n_units': 24, 'n_units l 0': 125, 'lr': 0.0032441274602718656}.\n"
          ],
          "name": "stderr"
        },
        {
          "output_type": "stream",
          "text": [
            "1000/1000 [==============================] - 2s 2ms/step\n"
          ],
          "name": "stdout"
        },
        {
          "output_type": "stream",
          "text": [
            "[I 2019-08-13 06:33:06,354] Finished trial#80 resulted in value: 0.923. Current best value is 0.955 with parameters: {'n_layers': 1, 'n_units': 24, 'n_units l 0': 125, 'lr': 0.0032441274602718656}.\n"
          ],
          "name": "stderr"
        },
        {
          "output_type": "stream",
          "text": [
            "1000/1000 [==============================] - 2s 2ms/step\n"
          ],
          "name": "stdout"
        },
        {
          "output_type": "stream",
          "text": [
            "[I 2019-08-13 06:33:20,836] Finished trial#81 resulted in value: 0.946. Current best value is 0.955 with parameters: {'n_layers': 1, 'n_units': 24, 'n_units l 0': 125, 'lr': 0.0032441274602718656}.\n"
          ],
          "name": "stderr"
        },
        {
          "output_type": "stream",
          "text": [
            "1000/1000 [==============================] - 2s 2ms/step\n"
          ],
          "name": "stdout"
        },
        {
          "output_type": "stream",
          "text": [
            "[I 2019-08-13 06:33:36,228] Finished trial#82 resulted in value: 0.948. Current best value is 0.955 with parameters: {'n_layers': 1, 'n_units': 24, 'n_units l 0': 125, 'lr': 0.0032441274602718656}.\n"
          ],
          "name": "stderr"
        },
        {
          "output_type": "stream",
          "text": [
            "1000/1000 [==============================] - 2s 2ms/step\n"
          ],
          "name": "stdout"
        },
        {
          "output_type": "stream",
          "text": [
            "[I 2019-08-13 06:33:51,230] Finished trial#83 resulted in value: 0.96. Current best value is 0.96 with parameters: {'n_layers': 1, 'n_units': 27, 'n_units l 0': 128, 'lr': 0.002453838538057227}.\n"
          ],
          "name": "stderr"
        },
        {
          "output_type": "stream",
          "text": [
            "1000/1000 [==============================] - 2s 2ms/step\n"
          ],
          "name": "stdout"
        },
        {
          "output_type": "stream",
          "text": [
            "[I 2019-08-13 06:34:05,237] Finished trial#84 resulted in value: 0.93. Current best value is 0.96 with parameters: {'n_layers': 1, 'n_units': 27, 'n_units l 0': 128, 'lr': 0.002453838538057227}.\n"
          ],
          "name": "stderr"
        },
        {
          "output_type": "stream",
          "text": [
            "1000/1000 [==============================] - 2s 2ms/step\n"
          ],
          "name": "stdout"
        },
        {
          "output_type": "stream",
          "text": [
            "[I 2019-08-13 06:34:20,383] Finished trial#85 resulted in value: 0.955. Current best value is 0.96 with parameters: {'n_layers': 1, 'n_units': 27, 'n_units l 0': 128, 'lr': 0.002453838538057227}.\n"
          ],
          "name": "stderr"
        },
        {
          "output_type": "stream",
          "text": [
            "1000/1000 [==============================] - 2s 2ms/step\n"
          ],
          "name": "stdout"
        },
        {
          "output_type": "stream",
          "text": [
            "[I 2019-08-13 06:34:34,418] Finished trial#86 resulted in value: 0.944. Current best value is 0.96 with parameters: {'n_layers': 1, 'n_units': 27, 'n_units l 0': 128, 'lr': 0.002453838538057227}.\n"
          ],
          "name": "stderr"
        },
        {
          "output_type": "stream",
          "text": [
            "1000/1000 [==============================] - 2s 2ms/step\n"
          ],
          "name": "stdout"
        },
        {
          "output_type": "stream",
          "text": [
            "[I 2019-08-13 06:34:50,090] Finished trial#87 resulted in value: 0.954. Current best value is 0.96 with parameters: {'n_layers': 1, 'n_units': 27, 'n_units l 0': 128, 'lr': 0.002453838538057227}.\n"
          ],
          "name": "stderr"
        },
        {
          "output_type": "stream",
          "text": [
            "1000/1000 [==============================] - 3s 3ms/step\n"
          ],
          "name": "stdout"
        },
        {
          "output_type": "stream",
          "text": [
            "[I 2019-08-13 06:35:05,488] Finished trial#88 resulted in value: 0.945. Current best value is 0.96 with parameters: {'n_layers': 1, 'n_units': 27, 'n_units l 0': 128, 'lr': 0.002453838538057227}.\n"
          ],
          "name": "stderr"
        },
        {
          "output_type": "stream",
          "text": [
            "1000/1000 [==============================] - 3s 3ms/step\n"
          ],
          "name": "stdout"
        },
        {
          "output_type": "stream",
          "text": [
            "[I 2019-08-13 06:35:19,264] Finished trial#89 resulted in value: 0.947. Current best value is 0.96 with parameters: {'n_layers': 1, 'n_units': 27, 'n_units l 0': 128, 'lr': 0.002453838538057227}.\n"
          ],
          "name": "stderr"
        },
        {
          "output_type": "stream",
          "text": [
            "1000/1000 [==============================] - 3s 3ms/step\n"
          ],
          "name": "stdout"
        },
        {
          "output_type": "stream",
          "text": [
            "[I 2019-08-13 06:35:34,028] Finished trial#90 resulted in value: 0.932. Current best value is 0.96 with parameters: {'n_layers': 1, 'n_units': 27, 'n_units l 0': 128, 'lr': 0.002453838538057227}.\n"
          ],
          "name": "stderr"
        },
        {
          "output_type": "stream",
          "text": [
            "1000/1000 [==============================] - 3s 3ms/step\n"
          ],
          "name": "stdout"
        },
        {
          "output_type": "stream",
          "text": [
            "[I 2019-08-13 06:35:50,163] Finished trial#91 resulted in value: 0.937. Current best value is 0.96 with parameters: {'n_layers': 1, 'n_units': 27, 'n_units l 0': 128, 'lr': 0.002453838538057227}.\n"
          ],
          "name": "stderr"
        },
        {
          "output_type": "stream",
          "text": [
            "1000/1000 [==============================] - 3s 3ms/step\n"
          ],
          "name": "stdout"
        },
        {
          "output_type": "stream",
          "text": [
            "[I 2019-08-13 06:36:05,522] Finished trial#92 resulted in value: 0.947. Current best value is 0.96 with parameters: {'n_layers': 1, 'n_units': 27, 'n_units l 0': 128, 'lr': 0.002453838538057227}.\n"
          ],
          "name": "stderr"
        },
        {
          "output_type": "stream",
          "text": [
            "1000/1000 [==============================] - 3s 3ms/step\n"
          ],
          "name": "stdout"
        },
        {
          "output_type": "stream",
          "text": [
            "[I 2019-08-13 06:36:20,279] Finished trial#93 resulted in value: 0.939. Current best value is 0.96 with parameters: {'n_layers': 1, 'n_units': 27, 'n_units l 0': 128, 'lr': 0.002453838538057227}.\n"
          ],
          "name": "stderr"
        },
        {
          "output_type": "stream",
          "text": [
            "1000/1000 [==============================] - 3s 3ms/step\n"
          ],
          "name": "stdout"
        },
        {
          "output_type": "stream",
          "text": [
            "[I 2019-08-13 06:36:35,941] Finished trial#94 resulted in value: 0.948. Current best value is 0.96 with parameters: {'n_layers': 1, 'n_units': 27, 'n_units l 0': 128, 'lr': 0.002453838538057227}.\n"
          ],
          "name": "stderr"
        },
        {
          "output_type": "stream",
          "text": [
            "1000/1000 [==============================] - 3s 3ms/step\n"
          ],
          "name": "stdout"
        },
        {
          "output_type": "stream",
          "text": [
            "[I 2019-08-13 06:36:53,828] Finished trial#95 resulted in value: 0.949. Current best value is 0.96 with parameters: {'n_layers': 1, 'n_units': 27, 'n_units l 0': 128, 'lr': 0.002453838538057227}.\n"
          ],
          "name": "stderr"
        },
        {
          "output_type": "stream",
          "text": [
            "1000/1000 [==============================] - 3s 3ms/step\n"
          ],
          "name": "stdout"
        },
        {
          "output_type": "stream",
          "text": [
            "[I 2019-08-13 06:37:11,480] Finished trial#96 resulted in value: 0.951. Current best value is 0.96 with parameters: {'n_layers': 1, 'n_units': 27, 'n_units l 0': 128, 'lr': 0.002453838538057227}.\n"
          ],
          "name": "stderr"
        },
        {
          "output_type": "stream",
          "text": [
            "1000/1000 [==============================] - 3s 3ms/step\n"
          ],
          "name": "stdout"
        },
        {
          "output_type": "stream",
          "text": [
            "[I 2019-08-13 06:37:27,428] Finished trial#97 resulted in value: 0.926. Current best value is 0.96 with parameters: {'n_layers': 1, 'n_units': 27, 'n_units l 0': 128, 'lr': 0.002453838538057227}.\n"
          ],
          "name": "stderr"
        },
        {
          "output_type": "stream",
          "text": [
            "1000/1000 [==============================] - 3s 3ms/step\n"
          ],
          "name": "stdout"
        },
        {
          "output_type": "stream",
          "text": [
            "[I 2019-08-13 06:37:44,696] Finished trial#98 resulted in value: 0.947. Current best value is 0.96 with parameters: {'n_layers': 1, 'n_units': 27, 'n_units l 0': 128, 'lr': 0.002453838538057227}.\n"
          ],
          "name": "stderr"
        },
        {
          "output_type": "stream",
          "text": [
            "1000/1000 [==============================] - 3s 3ms/step\n"
          ],
          "name": "stdout"
        },
        {
          "output_type": "stream",
          "text": [
            "[I 2019-08-13 06:38:00,925] Finished trial#99 resulted in value: 0.946. Current best value is 0.96 with parameters: {'n_layers': 1, 'n_units': 27, 'n_units l 0': 128, 'lr': 0.002453838538057227}.\n"
          ],
          "name": "stderr"
        },
        {
          "output_type": "stream",
          "text": [
            "1205 sec\n"
          ],
          "name": "stdout"
        }
      ]
    },
    {
      "cell_type": "code",
      "metadata": {
        "id": "BnlUH7qotFB5",
        "colab_type": "code",
        "colab": {
          "base_uri": "https://localhost:8080/",
          "height": 155
        },
        "outputId": "c0e5b3ae-1547-4b1e-b579-0375c807b99c"
      },
      "source": [
        "print('Best trial:')\n",
        "trial = study.best_trial\n",
        "\n",
        "print('  Value: ', trial.value)\n",
        "\n",
        "print('  Params: ')\n",
        "for key, value in trial.params.items():\n",
        "    print('    {}: {}'.format(key, value))\n",
        "print(round(time.time() - start_time), 'sec')"
      ],
      "execution_count": 13,
      "outputs": [
        {
          "output_type": "stream",
          "text": [
            "Best trial:\n",
            "  Value:  0.96\n",
            "  Params: \n",
            "    n_layers: 1\n",
            "    n_units: 27\n",
            "    n_units l 0: 128\n",
            "    lr: 0.002453838538057227\n",
            "1405 sec\n"
          ],
          "name": "stdout"
        }
      ]
    },
    {
      "cell_type": "code",
      "metadata": {
        "id": "6B6OLC_ncmSY",
        "colab_type": "code",
        "colab": {
          "base_uri": "https://localhost:8080/",
          "height": 1000
        },
        "outputId": "3f9404b6-7920-4289-85c2-fcf0df80cb2a"
      },
      "source": [
        "# kerasを使ってお試し（枝刈りあり）\n",
        "# https://github.com/pfnet/optuna/blob/master/examples/pruning/keras_integration.py\n",
        "\"\"\"\n",
        "Optuna example that demonstrates a pruner for Keras.\n",
        "In this example, we optimize the validation accuracy of hand-written digit recognition using\n",
        "Keras and MNIST, where the architecture of the neural network and the learning rate of optimizer\n",
        "is optimized. Throughout the training of neural networks, a pruner observes intermediate\n",
        "results and stops unpromising trials.\n",
        "You can run this example as follows:\n",
        "    $ python keras_integration.py\n",
        "\"\"\"\n",
        "\n",
        "\n",
        "N_TRAIN_EXAMPLES = 6000\n",
        "N_TEST_EXAMPLES = 1000\n",
        "BATCHSIZE = 128\n",
        "CLASSES = 10\n",
        "EPOCHS = 20\n",
        "\n",
        "\n",
        "def create_model(trial):\n",
        "    # We optimize the number of layers, hidden units and dropout in each layer and\n",
        "    # the learning rate of RMSProp optimizer.\n",
        "\n",
        "    # We define our MLP.\n",
        "    n_layers = trial.suggest_int('n_layers', 1, 4)\n",
        "    model = Sequential()\n",
        "    for i in range(n_layers):\n",
        "        num_hidden = int(trial.suggest_loguniform('n_units_l{}'.format(i), 4, 128))\n",
        "        model.add(Dense(num_hidden, activation='relu'))\n",
        "        #dropout = trial.suggest_uniform('dropout_l{}'.format(i), 0.2, 0.5)\n",
        "        #model.add(Dropout(rate=dropout))\n",
        "    model.add(Dense(CLASSES, activation='softmax'))\n",
        "\n",
        "    # We compile our model with a sampled learning rate.\n",
        "    lr = trial.suggest_loguniform('lr', 1e-5, 1e-1)\n",
        "    model.compile(loss='categorical_crossentropy',\n",
        "                  optimizer=keras.optimizers.RMSprop(lr=lr),\n",
        "                  metrics=['accuracy'])\n",
        "\n",
        "    return model\n",
        "\n",
        "\n",
        "def objective(trial):\n",
        "    # Clear clutter form previous session graphs.\n",
        "    keras.backend.clear_session()\n",
        "\n",
        "    # The data is split between train and test sets.\n",
        "    (x_train, y_train), (x_test, y_test) = mnist.load_data()\n",
        "    x_train = x_train.reshape(60000, 784)[:N_TRAIN_EXAMPLES].astype('float32') / 255\n",
        "    x_test = x_test.reshape(10000, 784)[:N_TEST_EXAMPLES].astype('float32') / 255\n",
        "\n",
        "    # Convert class vectors to binary class matrices.\n",
        "    y_train = keras.utils.to_categorical(y_train[:N_TRAIN_EXAMPLES], CLASSES)\n",
        "    y_test = keras.utils.to_categorical(y_test[:N_TEST_EXAMPLES], CLASSES)\n",
        "\n",
        "    # Generate our trial model.\n",
        "    model = create_model(trial)\n",
        "\n",
        "    # Fit the model on the training data.\n",
        "    # The KerasPruningCallback checks for pruning condition every epoch.\n",
        "    model.fit(x_train,\n",
        "              y_train,\n",
        "              batch_size=BATCHSIZE,\n",
        "              callbacks=[KerasPruningCallback(trial, 'val_acc')],\n",
        "              epochs=EPOCHS,\n",
        "              validation_data=(x_test, y_test),\n",
        "              verbose=0)\n",
        "\n",
        "    # Evaluate the model accuracy on the test set.\n",
        "    score = model.evaluate(x_test, y_test, verbose=0)\n",
        "    return score[1]\n",
        "\n",
        "\n",
        "if __name__ == '__main__':\n",
        "    start_time = time.time()\n",
        "    study = optuna.create_study(direction='maximize', pruner=optuna.pruners.MedianPruner())\n",
        "    study.optimize(objective, n_trials=100)\n",
        "    pruned_trials = [t for t in study.trials if t.state == optuna.structs.TrialState.PRUNED]\n",
        "    complete_trials = [t for t in study.trials if t.state == optuna.structs.TrialState.COMPLETE]\n",
        "    print('Study statistics: ')\n",
        "    print('  Number of finished trials: ', len(study.trials))\n",
        "    print('  Number of pruned trials: ', len(pruned_trials))\n",
        "    print('  Number of complete trials: ', len(complete_trials))\n",
        "\n",
        "    print('Best trial:')\n",
        "    trial = study.best_trial\n",
        "\n",
        "    print('  Value: ', trial.value)\n",
        "\n",
        "    print('  Params: ')\n",
        "    for key, value in trial.params.items():\n",
        "        print('    {}: {}'.format(key, value))\n",
        "    print(round(time.time() - start_time), 'sec')"
      ],
      "execution_count": 8,
      "outputs": [
        {
          "output_type": "stream",
          "text": [
            "[I 2019-08-13 06:07:07,100] Finished trial#0 resulted in value: 0.767. Current best value is 0.767 with parameters: {'n_layers': 1, 'n_units_l0': 18.10590703720201, 'lr': 0.07791249703542046}.\n",
            "[I 2019-08-13 06:07:10,193] Finished trial#1 resulted in value: 0.898. Current best value is 0.898 with parameters: {'n_layers': 1, 'n_units_l0': 21.294511568279496, 'lr': 0.0023242205679085103}.\n",
            "[I 2019-08-13 06:07:13,252] Finished trial#2 resulted in value: 0.729. Current best value is 0.898 with parameters: {'n_layers': 1, 'n_units_l0': 21.294511568279496, 'lr': 0.0023242205679085103}.\n",
            "[I 2019-08-13 06:07:16,555] Finished trial#3 resulted in value: 0.909. Current best value is 0.909 with parameters: {'n_layers': 2, 'n_units_l0': 29.09286193110281, 'n_units_l1': 36.883768623159774, 'lr': 0.0005136202483850972}.\n",
            "[I 2019-08-13 06:07:20,174] Finished trial#4 resulted in value: 0.837. Current best value is 0.909 with parameters: {'n_layers': 2, 'n_units_l0': 29.09286193110281, 'n_units_l1': 36.883768623159774, 'lr': 0.0005136202483850972}.\n",
            "[I 2019-08-13 06:07:21,126] Setting status of trial#5 as TrialState.PRUNED. Trial was pruned at epoch 1.\n",
            "[I 2019-08-13 06:07:22,408] Setting status of trial#6 as TrialState.PRUNED. Trial was pruned at epoch 1.\n",
            "[I 2019-08-13 06:07:23,625] Setting status of trial#7 as TrialState.PRUNED. Trial was pruned at epoch 1.\n",
            "[I 2019-08-13 06:07:24,744] Setting status of trial#8 as TrialState.PRUNED. Trial was pruned at epoch 1.\n",
            "[I 2019-08-13 06:07:26,146] Setting status of trial#9 as TrialState.PRUNED. Trial was pruned at epoch 1.\n",
            "[I 2019-08-13 06:07:31,567] Finished trial#10 resulted in value: 0.915. Current best value is 0.915 with parameters: {'n_layers': 3, 'n_units_l0': 118.83502693750742, 'n_units_l1': 91.89410991662834, 'n_units_l2': 46.22272320172395, 'lr': 0.0004937678382197279}.\n",
            "[I 2019-08-13 06:07:36,539] Finished trial#11 resulted in value: 0.909. Current best value is 0.915 with parameters: {'n_layers': 3, 'n_units_l0': 118.83502693750742, 'n_units_l1': 91.89410991662834, 'n_units_l2': 46.22272320172395, 'lr': 0.0004937678382197279}.\n",
            "[I 2019-08-13 06:07:40,378] Finished trial#12 resulted in value: 0.92. Current best value is 0.92 with parameters: {'n_layers': 3, 'n_units_l0': 44.525407690616476, 'n_units_l1': 44.18021194406846, 'n_units_l2': 109.0350792639324, 'lr': 0.0007806319125574182}.\n",
            "[I 2019-08-13 06:07:45,113] Finished trial#13 resulted in value: 0.924. Current best value is 0.924 with parameters: {'n_layers': 3, 'n_units_l0': 110.78814624676257, 'n_units_l1': 8.494861814190914, 'n_units_l2': 59.851960212678, 'lr': 0.008429176347648563}.\n",
            "[I 2019-08-13 06:07:46,304] Setting status of trial#14 as TrialState.PRUNED. Trial was pruned at epoch 1.\n",
            "[I 2019-08-13 06:07:50,372] Finished trial#15 resulted in value: 0.917. Current best value is 0.924 with parameters: {'n_layers': 3, 'n_units_l0': 110.78814624676257, 'n_units_l1': 8.494861814190914, 'n_units_l2': 59.851960212678, 'lr': 0.008429176347648563}.\n",
            "[I 2019-08-13 06:07:55,266] Finished trial#16 resulted in value: 0.944. Current best value is 0.944 with parameters: {'n_layers': 3, 'n_units_l0': 89.15500180498853, 'n_units_l1': 95.03679319763366, 'n_units_l2': 29.173050630857816, 'lr': 0.004528760108227697}.\n",
            "[I 2019-08-13 06:07:59,774] Finished trial#17 resulted in value: 0.935. Current best value is 0.944 with parameters: {'n_layers': 3, 'n_units_l0': 89.15500180498853, 'n_units_l1': 95.03679319763366, 'n_units_l2': 29.173050630857816, 'lr': 0.004528760108227697}.\n",
            "[I 2019-08-13 06:08:04,977] Finished trial#18 resulted in value: 0.927. Current best value is 0.944 with parameters: {'n_layers': 3, 'n_units_l0': 89.15500180498853, 'n_units_l1': 95.03679319763366, 'n_units_l2': 29.173050630857816, 'lr': 0.004528760108227697}.\n",
            "[I 2019-08-13 06:08:06,090] Setting status of trial#19 as TrialState.PRUNED. Trial was pruned at epoch 1.\n",
            "[I 2019-08-13 06:08:07,457] Setting status of trial#20 as TrialState.PRUNED. Trial was pruned at epoch 1.\n",
            "[I 2019-08-13 06:08:08,994] Setting status of trial#21 as TrialState.PRUNED. Trial was pruned at epoch 1.\n",
            "[I 2019-08-13 06:08:10,545] Setting status of trial#22 as TrialState.PRUNED. Trial was pruned at epoch 1.\n",
            "[I 2019-08-13 06:08:11,921] Setting status of trial#23 as TrialState.PRUNED. Trial was pruned at epoch 1.\n",
            "[I 2019-08-13 06:08:13,450] Setting status of trial#24 as TrialState.PRUNED. Trial was pruned at epoch 1.\n",
            "[I 2019-08-13 06:08:19,279] Finished trial#25 resulted in value: 0.936. Current best value is 0.944 with parameters: {'n_layers': 3, 'n_units_l0': 89.15500180498853, 'n_units_l1': 95.03679319763366, 'n_units_l2': 29.173050630857816, 'lr': 0.004528760108227697}.\n",
            "[I 2019-08-13 06:08:24,711] Finished trial#26 resulted in value: 0.934. Current best value is 0.944 with parameters: {'n_layers': 3, 'n_units_l0': 89.15500180498853, 'n_units_l1': 95.03679319763366, 'n_units_l2': 29.173050630857816, 'lr': 0.004528760108227697}.\n",
            "[I 2019-08-13 06:08:29,868] Finished trial#27 resulted in value: 0.924. Current best value is 0.944 with parameters: {'n_layers': 3, 'n_units_l0': 89.15500180498853, 'n_units_l1': 95.03679319763366, 'n_units_l2': 29.173050630857816, 'lr': 0.004528760108227697}.\n",
            "[I 2019-08-13 06:08:31,001] Setting status of trial#28 as TrialState.PRUNED. Trial was pruned at epoch 1.\n",
            "[I 2019-08-13 06:08:32,257] Setting status of trial#29 as TrialState.PRUNED. Trial was pruned at epoch 1.\n",
            "[I 2019-08-13 06:08:33,749] Setting status of trial#30 as TrialState.PRUNED. Trial was pruned at epoch 1.\n",
            "[I 2019-08-13 06:08:38,046] Finished trial#31 resulted in value: 0.926. Current best value is 0.944 with parameters: {'n_layers': 3, 'n_units_l0': 89.15500180498853, 'n_units_l1': 95.03679319763366, 'n_units_l2': 29.173050630857816, 'lr': 0.004528760108227697}.\n",
            "[I 2019-08-13 06:08:39,577] Setting status of trial#32 as TrialState.PRUNED. Trial was pruned at epoch 2.\n",
            "[I 2019-08-13 06:08:40,984] Setting status of trial#33 as TrialState.PRUNED. Trial was pruned at epoch 1.\n",
            "[I 2019-08-13 06:08:46,593] Finished trial#34 resulted in value: 0.943. Current best value is 0.944 with parameters: {'n_layers': 3, 'n_units_l0': 89.15500180498853, 'n_units_l1': 95.03679319763366, 'n_units_l2': 29.173050630857816, 'lr': 0.004528760108227697}.\n",
            "[I 2019-08-13 06:08:48,516] Setting status of trial#35 as TrialState.PRUNED. Trial was pruned at epoch 6.\n",
            "[I 2019-08-13 06:08:54,068] Finished trial#36 resulted in value: 0.944. Current best value is 0.944 with parameters: {'n_layers': 3, 'n_units_l0': 89.15500180498853, 'n_units_l1': 95.03679319763366, 'n_units_l2': 29.173050630857816, 'lr': 0.004528760108227697}.\n",
            "[I 2019-08-13 06:08:58,434] Finished trial#37 resulted in value: 0.931. Current best value is 0.944 with parameters: {'n_layers': 3, 'n_units_l0': 89.15500180498853, 'n_units_l1': 95.03679319763366, 'n_units_l2': 29.173050630857816, 'lr': 0.004528760108227697}.\n",
            "[I 2019-08-13 06:09:00,358] Setting status of trial#38 as TrialState.PRUNED. Trial was pruned at epoch 4.\n",
            "[I 2019-08-13 06:09:04,289] Finished trial#39 resulted in value: 0.935. Current best value is 0.944 with parameters: {'n_layers': 3, 'n_units_l0': 89.15500180498853, 'n_units_l1': 95.03679319763366, 'n_units_l2': 29.173050630857816, 'lr': 0.004528760108227697}.\n",
            "[I 2019-08-13 06:09:05,491] Setting status of trial#40 as TrialState.PRUNED. Trial was pruned at epoch 1.\n",
            "[I 2019-08-13 06:09:06,854] Setting status of trial#41 as TrialState.PRUNED. Trial was pruned at epoch 2.\n",
            "[I 2019-08-13 06:09:12,327] Finished trial#42 resulted in value: 0.946. Current best value is 0.946 with parameters: {'n_layers': 3, 'n_units_l0': 104.95270471664853, 'n_units_l1': 110.55874508502002, 'n_units_l2': 60.644647491626046, 'lr': 0.001831230353884561}.\n",
            "[I 2019-08-13 06:09:17,367] Finished trial#43 resulted in value: 0.939. Current best value is 0.946 with parameters: {'n_layers': 3, 'n_units_l0': 104.95270471664853, 'n_units_l1': 110.55874508502002, 'n_units_l2': 60.644647491626046, 'lr': 0.001831230353884561}.\n",
            "[I 2019-08-13 06:09:21,744] Finished trial#44 resulted in value: 0.938. Current best value is 0.946 with parameters: {'n_layers': 3, 'n_units_l0': 104.95270471664853, 'n_units_l1': 110.55874508502002, 'n_units_l2': 60.644647491626046, 'lr': 0.001831230353884561}.\n",
            "[I 2019-08-13 06:09:23,216] Setting status of trial#45 as TrialState.PRUNED. Trial was pruned at epoch 1.\n",
            "[I 2019-08-13 06:09:24,619] Setting status of trial#46 as TrialState.PRUNED. Trial was pruned at epoch 1.\n",
            "[I 2019-08-13 06:09:26,062] Setting status of trial#47 as TrialState.PRUNED. Trial was pruned at epoch 1.\n",
            "[I 2019-08-13 06:09:27,566] Setting status of trial#48 as TrialState.PRUNED. Trial was pruned at epoch 1.\n",
            "[I 2019-08-13 06:09:31,733] Finished trial#49 resulted in value: 0.934. Current best value is 0.946 with parameters: {'n_layers': 3, 'n_units_l0': 104.95270471664853, 'n_units_l1': 110.55874508502002, 'n_units_l2': 60.644647491626046, 'lr': 0.001831230353884561}.\n",
            "[I 2019-08-13 06:09:33,131] Setting status of trial#50 as TrialState.PRUNED. Trial was pruned at epoch 1.\n",
            "[I 2019-08-13 06:09:34,667] Setting status of trial#51 as TrialState.PRUNED. Trial was pruned at epoch 1.\n",
            "[I 2019-08-13 06:09:38,655] Setting status of trial#52 as TrialState.PRUNED. Trial was pruned at epoch 18.\n",
            "[I 2019-08-13 06:09:43,812] Finished trial#53 resulted in value: 0.947. Current best value is 0.947 with parameters: {'n_layers': 3, 'n_units_l0': 108.65440577956421, 'n_units_l1': 52.10051745533521, 'n_units_l2': 33.39855368017718, 'lr': 0.0025012113800707476}.\n",
            "[I 2019-08-13 06:09:45,487] Setting status of trial#54 as TrialState.PRUNED. Trial was pruned at epoch 3.\n",
            "[I 2019-08-13 06:09:47,010] Setting status of trial#55 as TrialState.PRUNED. Trial was pruned at epoch 1.\n",
            "[I 2019-08-13 06:09:48,511] Setting status of trial#56 as TrialState.PRUNED. Trial was pruned at epoch 1.\n",
            "[I 2019-08-13 06:09:49,942] Setting status of trial#57 as TrialState.PRUNED. Trial was pruned at epoch 1.\n",
            "[I 2019-08-13 06:09:54,715] Finished trial#58 resulted in value: 0.928. Current best value is 0.947 with parameters: {'n_layers': 3, 'n_units_l0': 108.65440577956421, 'n_units_l1': 52.10051745533521, 'n_units_l2': 33.39855368017718, 'lr': 0.0025012113800707476}.\n",
            "[I 2019-08-13 06:09:56,160] Setting status of trial#59 as TrialState.PRUNED. Trial was pruned at epoch 1.\n",
            "[I 2019-08-13 06:09:57,847] Setting status of trial#60 as TrialState.PRUNED. Trial was pruned at epoch 2.\n",
            "[I 2019-08-13 06:10:02,387] Finished trial#61 resulted in value: 0.938. Current best value is 0.947 with parameters: {'n_layers': 3, 'n_units_l0': 108.65440577956421, 'n_units_l1': 52.10051745533521, 'n_units_l2': 33.39855368017718, 'lr': 0.0025012113800707476}.\n",
            "[I 2019-08-13 06:10:03,712] Setting status of trial#62 as TrialState.PRUNED. Trial was pruned at epoch 1.\n",
            "[I 2019-08-13 06:10:05,301] Setting status of trial#63 as TrialState.PRUNED. Trial was pruned at epoch 2.\n",
            "[I 2019-08-13 06:10:06,802] Setting status of trial#64 as TrialState.PRUNED. Trial was pruned at epoch 1.\n",
            "[I 2019-08-13 06:10:12,297] Finished trial#65 resulted in value: 0.919. Current best value is 0.947 with parameters: {'n_layers': 3, 'n_units_l0': 108.65440577956421, 'n_units_l1': 52.10051745533521, 'n_units_l2': 33.39855368017718, 'lr': 0.0025012113800707476}.\n",
            "[I 2019-08-13 06:10:13,548] Setting status of trial#66 as TrialState.PRUNED. Trial was pruned at epoch 1.\n",
            "[I 2019-08-13 06:10:17,706] Finished trial#67 resulted in value: 0.924. Current best value is 0.947 with parameters: {'n_layers': 3, 'n_units_l0': 108.65440577956421, 'n_units_l1': 52.10051745533521, 'n_units_l2': 33.39855368017718, 'lr': 0.0025012113800707476}.\n",
            "[I 2019-08-13 06:10:22,714] Finished trial#68 resulted in value: 0.94. Current best value is 0.947 with parameters: {'n_layers': 3, 'n_units_l0': 108.65440577956421, 'n_units_l1': 52.10051745533521, 'n_units_l2': 33.39855368017718, 'lr': 0.0025012113800707476}.\n",
            "[I 2019-08-13 06:10:24,581] Setting status of trial#69 as TrialState.PRUNED. Trial was pruned at epoch 4.\n",
            "[I 2019-08-13 06:10:25,990] Setting status of trial#70 as TrialState.PRUNED. Trial was pruned at epoch 1.\n",
            "[I 2019-08-13 06:10:29,592] Setting status of trial#71 as TrialState.PRUNED. Trial was pruned at epoch 15.\n",
            "[I 2019-08-13 06:10:34,868] Finished trial#72 resulted in value: 0.937. Current best value is 0.947 with parameters: {'n_layers': 3, 'n_units_l0': 108.65440577956421, 'n_units_l1': 52.10051745533521, 'n_units_l2': 33.39855368017718, 'lr': 0.0025012113800707476}.\n",
            "[I 2019-08-13 06:10:39,321] Finished trial#73 resulted in value: 0.943. Current best value is 0.947 with parameters: {'n_layers': 3, 'n_units_l0': 108.65440577956421, 'n_units_l1': 52.10051745533521, 'n_units_l2': 33.39855368017718, 'lr': 0.0025012113800707476}.\n",
            "[I 2019-08-13 06:10:40,390] Setting status of trial#74 as TrialState.PRUNED. Trial was pruned at epoch 1.\n",
            "[I 2019-08-13 06:10:44,958] Finished trial#75 resulted in value: 0.948. Current best value is 0.948 with parameters: {'n_layers': 1, 'n_units_l0': 98.50955810115154, 'lr': 0.004516969599473113}.\n",
            "[I 2019-08-13 06:10:49,174] Finished trial#76 resulted in value: 0.947. Current best value is 0.948 with parameters: {'n_layers': 1, 'n_units_l0': 98.50955810115154, 'lr': 0.004516969599473113}.\n",
            "[I 2019-08-13 06:10:53,187] Finished trial#77 resulted in value: 0.935. Current best value is 0.948 with parameters: {'n_layers': 1, 'n_units_l0': 98.50955810115154, 'lr': 0.004516969599473113}.\n",
            "[I 2019-08-13 06:10:57,641] Finished trial#78 resulted in value: 0.929. Current best value is 0.948 with parameters: {'n_layers': 1, 'n_units_l0': 98.50955810115154, 'lr': 0.004516969599473113}.\n",
            "[I 2019-08-13 06:11:01,910] Finished trial#79 resulted in value: 0.939. Current best value is 0.948 with parameters: {'n_layers': 1, 'n_units_l0': 98.50955810115154, 'lr': 0.004516969599473113}.\n",
            "[I 2019-08-13 06:11:05,915] Finished trial#80 resulted in value: 0.951. Current best value is 0.951 with parameters: {'n_layers': 1, 'n_units_l0': 79.67699360885061, 'lr': 0.006815932751743973}.\n",
            "[I 2019-08-13 06:11:09,961] Finished trial#81 resulted in value: 0.941. Current best value is 0.951 with parameters: {'n_layers': 1, 'n_units_l0': 79.67699360885061, 'lr': 0.006815932751743973}.\n",
            "[I 2019-08-13 06:11:14,169] Finished trial#82 resulted in value: 0.944. Current best value is 0.951 with parameters: {'n_layers': 1, 'n_units_l0': 79.67699360885061, 'lr': 0.006815932751743973}.\n",
            "[I 2019-08-13 06:11:15,255] Setting status of trial#83 as TrialState.PRUNED. Trial was pruned at epoch 1.\n",
            "[I 2019-08-13 06:11:19,745] Finished trial#84 resulted in value: 0.938. Current best value is 0.951 with parameters: {'n_layers': 1, 'n_units_l0': 79.67699360885061, 'lr': 0.006815932751743973}.\n",
            "[I 2019-08-13 06:11:20,978] Setting status of trial#85 as TrialState.PRUNED. Trial was pruned at epoch 2.\n",
            "[I 2019-08-13 06:11:25,995] Finished trial#86 resulted in value: 0.948. Current best value is 0.951 with parameters: {'n_layers': 1, 'n_units_l0': 79.67699360885061, 'lr': 0.006815932751743973}.\n",
            "[I 2019-08-13 06:11:30,733] Finished trial#87 resulted in value: 0.948. Current best value is 0.951 with parameters: {'n_layers': 1, 'n_units_l0': 79.67699360885061, 'lr': 0.006815932751743973}.\n",
            "[I 2019-08-13 06:11:31,880] Setting status of trial#88 as TrialState.PRUNED. Trial was pruned at epoch 1.\n",
            "[I 2019-08-13 06:11:33,171] Setting status of trial#89 as TrialState.PRUNED. Trial was pruned at epoch 1.\n",
            "[I 2019-08-13 06:11:37,898] Finished trial#90 resulted in value: 0.946. Current best value is 0.951 with parameters: {'n_layers': 1, 'n_units_l0': 79.67699360885061, 'lr': 0.006815932751743973}.\n",
            "[I 2019-08-13 06:11:39,041] Setting status of trial#91 as TrialState.PRUNED. Trial was pruned at epoch 1.\n",
            "[I 2019-08-13 06:11:43,920] Finished trial#92 resulted in value: 0.947. Current best value is 0.951 with parameters: {'n_layers': 1, 'n_units_l0': 79.67699360885061, 'lr': 0.006815932751743973}.\n",
            "[I 2019-08-13 06:11:48,617] Finished trial#93 resulted in value: 0.934. Current best value is 0.951 with parameters: {'n_layers': 1, 'n_units_l0': 79.67699360885061, 'lr': 0.006815932751743973}.\n",
            "[I 2019-08-13 06:11:53,163] Finished trial#94 resulted in value: 0.945. Current best value is 0.951 with parameters: {'n_layers': 1, 'n_units_l0': 79.67699360885061, 'lr': 0.006815932751743973}.\n",
            "[I 2019-08-13 06:11:54,291] Setting status of trial#95 as TrialState.PRUNED. Trial was pruned at epoch 1.\n",
            "[I 2019-08-13 06:11:55,600] Setting status of trial#96 as TrialState.PRUNED. Trial was pruned at epoch 1.\n",
            "[I 2019-08-13 06:12:00,296] Finished trial#97 resulted in value: 0.927. Current best value is 0.951 with parameters: {'n_layers': 1, 'n_units_l0': 79.67699360885061, 'lr': 0.006815932751743973}.\n",
            "[I 2019-08-13 06:12:01,487] Setting status of trial#98 as TrialState.PRUNED. Trial was pruned at epoch 1.\n",
            "[I 2019-08-13 06:12:06,239] Finished trial#99 resulted in value: 0.946. Current best value is 0.951 with parameters: {'n_layers': 1, 'n_units_l0': 79.67699360885061, 'lr': 0.006815932751743973}.\n"
          ],
          "name": "stderr"
        },
        {
          "output_type": "stream",
          "text": [
            "Study statistics: \n",
            "  Number of finished trials:  100\n",
            "  Number of pruned trials:  50\n",
            "  Number of complete trials:  50\n",
            "Best trial:\n",
            "  Value:  0.951\n",
            "  Params: \n",
            "    n_layers: 1\n",
            "    n_units_l0: 79.67699360885061\n",
            "    lr: 0.006815932751743973\n",
            "302 sec\n"
          ],
          "name": "stdout"
        }
      ]
    },
    {
      "cell_type": "code",
      "metadata": {
        "id": "Aih_wF4Dd8w3",
        "colab_type": "code",
        "colab": {}
      },
      "source": [
        ""
      ],
      "execution_count": 0,
      "outputs": []
    }
  ]
}